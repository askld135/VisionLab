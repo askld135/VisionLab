{
  "cells": [
    {
      "cell_type": "markdown",
      "metadata": {},
      "source": [
        "--------------\n",
        "\n",
        "\n"
      ]
    },
    {
      "attachments": {},
      "cell_type": "markdown",
      "metadata": {},
      "source": [
        "## Custom Dataset\n",
        "\n",
        "`torch.utils.data.dataset`을 상속받아서 구현.\n",
        "\n",
        "Dataset 설정 시 꼭 필요한 Methods:\n",
        "\n",
        "1. `__init__`: 데이터셋 (입력, 출력 파일들) 경로 및 필요한 인스턴스(변수, 객체 등) 초기화\n",
        "   \n",
        "  - 일반적으로 필요한 인스턴스 (인스턴스 이름은 임의로 설정해도 무관)\n",
        "  \n",
        "    - `self.input_dir`: 입력 파일들이 들어있는 경로.\n",
        "    - `self.label_dir`: 답안 파일들이 들어있는 경로. 만약 답안이 하나의 파일 안에 들어있는 경우 파일로 초기화 함.\n",
        "    - `self.transform`: 입력 영상들을 불러와서 처리하기 위한 객체. 보통 `torchvision.transforms`의 클래스들로 구현. 없는 경우 None.\n",
        "    - `self.target_transform`: 답안 파일들을 불러와서 처리하기 위한 객체. 없는 경우 None.\n",
        "\n",
        "2. `__len__`: 데이터베이스내의 샘플 개수. 리스트의 길이를 출력하는 등의 방식으로 출력. `len(dataset)`을 사용할 수 있게 해줌.\n",
        "   \n",
        "3. `__getitem__`: 인덱스(몇 번째 파일을 불러올지) idx가 주어졌을 때, idx에 해당하는 입력과 답안을 출력해 주는 Method. idx는 dataloader에서 제공.\n"
      ]
    },
    {
      "cell_type": "code",
      "execution_count": null,
      "metadata": {
        "collapsed": false
      },
      "outputs": [],
      "source": [
        "# 예시\n",
        "import os\n",
        "import pandas as pd\n",
        "from torchvision.io import read_image\n",
        "from torch.utils.data import Dataset, DataLoader\n",
        "\n",
        "class CustomImageDataset(Dataset):\n",
        "    def __init__(self, annotations_file, img_dir, transform=None, target_transform=None):\n",
        "        self.img_labels = pd.read_csv(annotations_file)\n",
        "        self.img_dir = img_dir\n",
        "        self.transform = transform\n",
        "        self.target_transform = target_transform\n",
        "\n",
        "    def __len__(self):\n",
        "        return len(self.img_labels)\n",
        "\n",
        "    def __getitem__(self, idx):\n",
        "        img_path = os.path.join(self.img_dir, self.img_labels.iloc[idx, 0])\n",
        "        image = read_image(img_path)\n",
        "        label = self.img_labels.iloc[idx, 1]\n",
        "        if self.transform:\n",
        "            image = self.transform(image)\n",
        "        if self.target_transform:\n",
        "            label = self.target_transform(label)\n",
        "        return image, label"
      ]
    },
    {
      "attachments": {},
      "cell_type": "markdown",
      "metadata": {},
      "source": [
        "`__init__`에서 미리 파일 리스트를 받아놓는 방법. 또는 경로만 초기화 하고 `__getitem__`에서 불러오는 방법이 있음."
      ]
    },
    {
      "cell_type": "code",
      "execution_count": null,
      "metadata": {
        "collapsed": false
      },
      "outputs": [],
      "source": [
        "# 예제 1. 입력, 답안 모두 파일일 때. __init__에서 경로만 저장.\n",
        "def __init__(self, input_dir, label_dir, transform=None, target_transform=None):\n",
        "    self.input_dir = input_dir\n",
        "    self.label_dir = label_dir\n",
        "    self.transform = transform\n",
        "    self.target_transform = target_transform\n",
        "    \n",
        "def __len__(self):\n",
        "    return len(os.listdir(input_dir))\n",
        "    \n",
        "def __getitem__(self, idx):\n",
        "    input_filename = os.path.join(self.img_dir, 'input_' + str(idx) + '.jpg')   # 파일 이름이 input_0xx.jpg 라고 가정.\n",
        "    label_filename = os.path.join(self.label_dir, 'label_' + str(idx) + '.jpg')   # 파일 이름이 label_0xx.jpg 라고 가정.\n",
        "    \n",
        "    input = read_image(input_filename)\n",
        "    label = read_image(label_filename)\n",
        "\n",
        "    if self.transform is not None:\n",
        "        input = self.transform(input)\n",
        "    \n",
        "    if self.target_transform is not None:\n",
        "        label = self.target_transform(label)\n",
        "    \n",
        "    return input, label"
      ]
    },
    {
      "cell_type": "code",
      "execution_count": null,
      "metadata": {
        "collapsed": false
      },
      "outputs": [],
      "source": [
        "# 예제 2. 입력, 답안 모두 파일일 때. __init__에서 파일 이름을 리스트로 미리 저장\n",
        "def __init__(self, input_dir, label_dir, transform=None, target_transform=None):\n",
        "    self.input_list = os.listdir(input_dir)\n",
        "    self.label_list = os.listdir(label_dir)\n",
        "    self.transform = transform\n",
        "    self.target_transform = target_transform\n",
        "    \n",
        "def __len__(self):\n",
        "    return len(self.input_list)\n",
        "    \n",
        "def __getitem__(self, idx):\n",
        "    input = read_image(self.input_list[idx])\n",
        "    label = read_image(self.label_list[idx])\n",
        "\n",
        "    if self.transform is not None:\n",
        "        input = self.transform(input)\n",
        "    \n",
        "    if self.target_transform is not None:\n",
        "        label = self.target_transform(label)\n",
        "    \n",
        "    return input, label"
      ]
    },
    {
      "attachments": {},
      "cell_type": "markdown",
      "metadata": {},
      "source": [
        "`Dataset`에서 개별 파일을 불러오는 부분을 처리해 준 후 `torch.utils.Dataloader`에 입력해주면 dataloader에 설정된 batch size만큼 개별 파일들을 불러와서 tensor 형태로 묶어줌."
      ]
    },
    {
      "cell_type": "code",
      "execution_count": null,
      "metadata": {
        "collapsed": false
      },
      "outputs": [],
      "source": [
        "dataset = CustomImageDataset(input_dir, label_dir, transform, target_transform)\n",
        "dataloader = torch.utils.DataLoader(dataset, \n",
        "                                    batch_size=128, \n",
        "                                    shuffle=True)  # 미니배치 처리를 담당"
      ]
    }
  ],
  "metadata": {
    "kernelspec": {
      "display_name": "base",
      "language": "python",
      "name": "python3"
    },
    "language_info": {
      "codemirror_mode": {
        "name": "ipython",
        "version": 3
      },
      "file_extension": ".py",
      "mimetype": "text/x-python",
      "name": "python",
      "nbconvert_exporter": "python",
      "pygments_lexer": "ipython3",
      "version": "3.9.13 (main, Oct 13 2022, 21:23:06) [MSC v.1916 64 bit (AMD64)]"
    },
    "vscode": {
      "interpreter": {
        "hash": "6b9e9eb141a3a97614cb39e60c2bee3c3b2784b0bf79b3ae581059f583c5b890"
      }
    }
  },
  "nbformat": 4,
  "nbformat_minor": 0
}
